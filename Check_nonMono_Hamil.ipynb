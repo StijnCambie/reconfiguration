{
 "cells": [
  {
   "cell_type": "code",
   "execution_count": 1,
   "metadata": {},
   "outputs": [],
   "source": [
    "#conn: a function that looks if the colourings L and K are connected in the reconfiguration graph, where colourings are just lists \n",
    "#with the consecutive colours used\n",
    "def conn(L,K):\n",
    "    counter=0\n",
    "    for i in range(0,len(L)):\n",
    "        if L[i]==K[i]:\n",
    "            counter+=1\n",
    "    if counter==len(L)-1:\n",
    "        return(True)\n",
    "    else:\n",
    "        return(False)\n",
    "    \n",
    "#The function Ck builds the reconfiguration graph, given its vertices as input (which are colourings of a graph)\n",
    "def Ck(V):\n",
    "    G = Graph()\n",
    "    G.add_vertices(range(0,len(V)))\n",
    "    for i in range(0,len(V)-1):\n",
    "        for j in range(i+1,len(V)):\n",
    "            if conn(V[i],V[j]):\n",
    "                G.add_edge(i,j)\n",
    "    return G"
   ]
  },
  {
   "cell_type": "code",
   "execution_count": 2,
   "metadata": {},
   "outputs": [],
   "source": [
    "g=Graph(\"Is_BjX[N?\")\n",
    "n=g.order()"
   ]
  },
  {
   "cell_type": "code",
   "execution_count": 3,
   "metadata": {},
   "outputs": [
    {
     "data": {
      "text/plain": [
       "216"
      ]
     },
     "execution_count": 3,
     "metadata": {},
     "output_type": "execute_result"
    }
   ],
   "source": [
    "Col3=list(sage.graphs.graph_coloring.all_graph_colorings(g, 3, count_only=False, hex_colors=False, vertex_color_dict=False))\n",
    "len(Col3)\n",
    "\n",
    "V3=[]\n",
    "for i in range(0,len(Col3)):\n",
    "    M=[0]*n\n",
    "    for j in Col3[i].keys():\n",
    "        for s in Col3[i][j]:\n",
    "            M[s]=j\n",
    "    V3.append(M)\n",
    "len(V3)"
   ]
  },
  {
   "cell_type": "code",
   "execution_count": 4,
   "metadata": {},
   "outputs": [
    {
     "data": {
      "text/plain": [
       "True"
      ]
     },
     "execution_count": 4,
     "metadata": {},
     "output_type": "execute_result"
    }
   ],
   "source": [
    "H3=Ck(V3)\n",
    "H3.is_hamiltonian()"
   ]
  },
  {
   "cell_type": "code",
   "execution_count": null,
   "metadata": {},
   "outputs": [],
   "source": []
  },
  {
   "cell_type": "code",
   "execution_count": null,
   "metadata": {},
   "outputs": [],
   "source": []
  },
  {
   "cell_type": "code",
   "execution_count": null,
   "metadata": {},
   "outputs": [],
   "source": []
  }
 ],
 "metadata": {
  "kernelspec": {
   "display_name": "SageMath 9.3",
   "language": "sage",
   "name": "sagemath"
  },
  "language_info": {
   "codemirror_mode": {
    "name": "ipython",
    "version": 3
   },
   "file_extension": ".py",
   "mimetype": "text/x-python",
   "name": "python",
   "nbconvert_exporter": "python",
   "pygments_lexer": "ipython3",
   "version": "3.7.10"
  }
 },
 "nbformat": 4,
 "nbformat_minor": 4
}
