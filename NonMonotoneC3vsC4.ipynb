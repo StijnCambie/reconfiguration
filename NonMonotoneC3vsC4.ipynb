{
 "cells": [
  {
   "cell_type": "code",
   "execution_count": 11,
   "metadata": {},
   "outputs": [],
   "source": [
    "#conn: a function that looks if the colourings L and K are connected in the reconfiguration graph, where colourings are just lists \n",
    "#with the consecutive colours used\n",
    "def conn(L,K):\n",
    "    counter=0\n",
    "    for i in range(0,len(L)):\n",
    "        if L[i]==K[i]:\n",
    "            counter+=1\n",
    "    if counter==len(L)-1:\n",
    "        return(True)\n",
    "    else:\n",
    "        return(False)\n",
    "    \n",
    "#The function Ck builds the reconfiguration graph, given its vertices as input (which are colourings of a graph)\n",
    "def Ck(V):\n",
    "    G = Graph()\n",
    "    G.add_vertices(range(0,len(V)))\n",
    "    for i in range(0,len(V)-1):\n",
    "        for j in range(i+1,len(V)):\n",
    "            if conn(V[i],V[j]):\n",
    "                G.add_edge(i,j)\n",
    "    return G"
   ]
  },
  {
   "cell_type": "code",
   "execution_count": 7,
   "metadata": {},
   "outputs": [
    {
     "data": {
      "text/plain": [
       "(348, 18372)"
      ]
     },
     "execution_count": 7,
     "metadata": {},
     "output_type": "execute_result"
    }
   ],
   "source": [
    "#For our graph of order 10, we compute all 3-colourings and all 4-colourings\n",
    "g=Graph('IsLR?KIB?')\n",
    "n=g.order()\n",
    "Col3=list(sage.graphs.graph_coloring.all_graph_colorings(g, 3, count_only=False, hex_colors=False, vertex_color_dict=False))\n",
    "len(Col3)\n",
    "Col4=list(sage.graphs.graph_coloring.all_graph_colorings(g, 4, count_only=False, hex_colors=False, vertex_color_dict=False))\n",
    "(len(Col3),len(Col4))"
   ]
  },
  {
   "cell_type": "code",
   "execution_count": 14,
   "metadata": {},
   "outputs": [],
   "source": [
    "#we convert the colourings into lists, and compute the reconfiguration graphs C_3(g) and C_4(g)\n",
    "V3=[]\n",
    "for i in range(0,len(Col3)):\n",
    "    M=[0]*n\n",
    "    for j in Col3[i].keys():\n",
    "        for s in Col3[i][j]:\n",
    "            M[s]=j\n",
    "    V3.append(M)\n",
    " \n",
    "V4=[]\n",
    "for i in range(0,len(Col4)):\n",
    "    M=[0]*n\n",
    "    for j in Col4[i].keys():\n",
    "        for s in Col4[i][j]:\n",
    "            M[s]=j\n",
    "    V4.append(M)\n",
    "\n",
    "C3=Ck(V3)\n",
    "C4=Ck(V4)"
   ]
  },
  {
   "cell_type": "code",
   "execution_count": 32,
   "metadata": {},
   "outputs": [
    {
     "name": "stdout",
     "output_type": "stream",
     "text": [
      "(15, 17)\n",
      "(15, 14)\n"
     ]
    }
   ],
   "source": [
    "#We compute the diameter of both\n",
    "print((C3.diameter(),C4.diameter()))\n",
    "print((C3.radius(),C4.radius()))"
   ]
  },
  {
   "cell_type": "code",
   "execution_count": 17,
   "metadata": {},
   "outputs": [
    {
     "name": "stdout",
     "output_type": "stream",
     "text": [
      "[0, 1, 2, 3, 1, 2, 3, 0, 0, 0]\n",
      "[0, 1, 2, 3, 1, 2, 3, 0, 0, 3]\n",
      "[0, 1, 2, 3, 1, 2, 3, 0, 2, 3]\n",
      "[0, 1, 2, 3, 0, 2, 3, 0, 2, 3]\n",
      "[0, 1, 2, 3, 0, 2, 3, 0, 2, 1]\n",
      "[0, 1, 2, 1, 0, 2, 3, 0, 2, 1]\n",
      "[0, 1, 2, 1, 3, 2, 3, 0, 2, 1]\n",
      "[0, 1, 2, 1, 3, 2, 3, 0, 2, 0]\n",
      "[0, 1, 1, 1, 3, 2, 3, 0, 2, 0]\n",
      "[0, 1, 1, 1, 3, 2, 3, 1, 2, 0]\n",
      "[2, 1, 1, 1, 3, 2, 3, 1, 2, 0]\n",
      "[2, 1, 1, 0, 3, 2, 3, 1, 2, 0]\n",
      "[2, 1, 1, 0, 3, 2, 0, 1, 2, 0]\n",
      "[2, 3, 1, 0, 3, 2, 0, 1, 2, 0]\n",
      "[2, 3, 1, 0, 3, 2, 0, 3, 2, 0]\n",
      "[2, 3, 1, 0, 3, 1, 0, 3, 2, 0]\n",
      "[2, 3, 1, 0, 3, 1, 0, 2, 2, 0]\n",
      "[2, 3, 1, 0, 3, 1, 0, 2, 2, 2]\n"
     ]
    }
   ],
   "source": [
    "for i in C4.shortest_path(1096, 12593):\n",
    "    print(V4[i])"
   ]
  },
  {
   "cell_type": "code",
   "execution_count": null,
   "metadata": {},
   "outputs": [],
   "source": []
  },
  {
   "cell_type": "code",
   "execution_count": null,
   "metadata": {},
   "outputs": [],
   "source": []
  },
  {
   "cell_type": "code",
   "execution_count": null,
   "metadata": {},
   "outputs": [],
   "source": []
  },
  {
   "cell_type": "code",
   "execution_count": null,
   "metadata": {},
   "outputs": [],
   "source": []
  }
 ],
 "metadata": {
  "kernelspec": {
   "display_name": "SageMath 9.3",
   "language": "sage",
   "name": "sagemath"
  },
  "language_info": {
   "codemirror_mode": {
    "name": "ipython",
    "version": 3
   },
   "file_extension": ".py",
   "mimetype": "text/x-python",
   "name": "python",
   "nbconvert_exporter": "python",
   "pygments_lexer": "ipython3",
   "version": "3.7.10"
  }
 },
 "nbformat": 4,
 "nbformat_minor": 4
}
